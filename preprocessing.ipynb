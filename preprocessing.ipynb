{
 "cells": [
  {
   "cell_type": "markdown",
   "metadata": {},
   "source": [
    "### Preprocessing "
   ]
  },
  {
   "cell_type": "code",
   "execution_count": 1,
   "metadata": {},
   "outputs": [],
   "source": [
    "from os import listdir\n",
    "from os.path import isfile, join\n",
    "\n",
    "import nltk\n",
    "import time\n",
    "import unidecode\n",
    "import ftfy\n",
    "\n",
    "import pandas as pd"
   ]
  },
  {
   "cell_type": "code",
   "execution_count": 2,
   "metadata": {},
   "outputs": [
    {
     "name": "stdout",
     "output_type": "stream",
     "text": [
      "Percentage Completed: 0%\n",
      "Percentage Completed: 10%\n",
      "Percentage Completed: 19%\n",
      "Percentage Completed: 29%\n",
      "Percentage Completed: 38%\n",
      "Percentage Completed: 48%\n",
      "Percentage Completed: 58%\n",
      "Percentage Completed: 67%\n",
      "Percentage Completed: 77%\n",
      "Percentage Completed: 86%\n",
      "Percentage Completed: 96%\n",
      "Percentage Completed: 100%\n",
      "Finished!\n",
      "Time to Complete: 120.12251377105713\n"
     ]
    }
   ],
   "source": [
    "files_2013 = ['2013/' + f for f in listdir('2013/') if isfile(join('2013/', f))]\n",
    "files_2014 = ['2014/' + f for f in listdir('2014/') if isfile(join('2014/', f))]\n",
    "all_files = files_2013 + files_2014\n",
    "\n",
    "\n",
    "article_list = []\n",
    "# clean and decode all files\n",
    "start_time = time.time()\n",
    "for index, file_name in enumerate(all_files):\n",
    "    if index % 70 == 0:\n",
    "        print(\"Percentage Completed: {0:.0%}\".format(index / len(all_files)))\n",
    "    with open(file_name, encoding = \"latin-1\") as f:\n",
    "        sentences = [nltk.tokenize.sent_tokenize(line) for line in f]\n",
    "        flat_list = [unidecode.unidecode(ftfy.fix_text(item)) for sublist in sentences for item in sublist]\n",
    "    article_list.append(flat_list)\n",
    "\n",
    "print(\"Percentage Completed: 100%\")\n",
    "print(\"Finished!\")\n",
    "print(\"Time to Complete:\", time.time() - start_time)"
   ]
  },
  {
   "cell_type": "code",
   "execution_count": 3,
   "metadata": {},
   "outputs": [],
   "source": [
    "# write as one string to a file\n",
    "all_articles_in_one = [x for sublist in article_list for x in sublist]\n",
    "article_to_sentence = pd.DataFrame({'Article':article_list})\n",
    "article_to_sentence.to_csv(\"articles_sentences.csv\", index = False)\n",
    "sentences = pd.DataFrame(all_articles_in_one)\n",
    "sentences.to_csv(\"all_sentences.csv\", index = False)\n"
   ]
  },
  {
   "cell_type": "markdown",
   "metadata": {},
   "source": [
    "### Cleaning Percentages"
   ]
  },
  {
   "cell_type": "code",
   "execution_count": 4,
   "metadata": {},
   "outputs": [
    {
     "data": {
      "text/plain": [
       "['66%', '40%', '90%', '49%', '100%']"
      ]
     },
     "execution_count": 4,
     "metadata": {},
     "output_type": "execute_result"
    }
   ],
   "source": [
    "percentages = pd.read_csv(\"all/percentage.csv\", encoding = \"latin-1\", header = -1)[0].tolist()\n",
    "# view head\n",
    "percentages[:5]"
   ]
  },
  {
   "cell_type": "code",
   "execution_count": 5,
   "metadata": {},
   "outputs": [
    {
     "data": {
      "text/plain": [
       "['E', 'S', ',', 'H', '5']"
      ]
     },
     "execution_count": 5,
     "metadata": {},
     "output_type": "execute_result"
    }
   ],
   "source": [
    "unique_characters = list(set(''.join(percentages)))\n",
    "unique_characters[:5]\n",
    "# weird characters = ['\"', '*', '?']"
   ]
  },
  {
   "cell_type": "code",
   "execution_count": 6,
   "metadata": {},
   "outputs": [],
   "source": [
    "def clean_percentage(percentage_string):\n",
    "    chars_to_remove = ['\"', '*', '?', ',', '(', ')']\n",
    "    percentage_string.strip()\n",
    "    percentage_string = unidecode.unidecode(percentage_string)\n",
    "    percentage_string = percentage_string.lower()\n",
    "    for char in chars_to_remove:\n",
    "        if char in percentage_string:\n",
    "            percentage_string = percentage_string.replace(char, \"\")\n",
    "    return percentage_string.strip()"
   ]
  },
  {
   "cell_type": "code",
   "execution_count": 7,
   "metadata": {},
   "outputs": [],
   "source": [
    "cleaned_percentages = [clean_percentage(x) for x in percentages]\n",
    "percents_df = pd.DataFrame(cleaned_percentages)\n",
    "percents_df.to_csv(\"cleaned_percents.csv\", index = False)"
   ]
  }
 ],
 "metadata": {
  "kernelspec": {
   "display_name": "Python 3",
   "language": "python",
   "name": "python3"
  },
  "language_info": {
   "codemirror_mode": {
    "name": "ipython",
    "version": 3
   },
   "file_extension": ".py",
   "mimetype": "text/x-python",
   "name": "python",
   "nbconvert_exporter": "python",
   "pygments_lexer": "ipython3",
   "version": "3.6.5"
  }
 },
 "nbformat": 4,
 "nbformat_minor": 2
}
