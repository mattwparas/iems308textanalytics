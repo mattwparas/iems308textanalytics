{
 "cells": [
  {
   "cell_type": "markdown",
   "metadata": {},
   "source": [
    "# Extraction of Percentages from text\n",
    "\n",
    "Here we will use regex to extract the percentages from the corpus"
   ]
  },
  {
   "cell_type": "code",
   "execution_count": 1,
   "metadata": {},
   "outputs": [],
   "source": [
    "import re\n",
    "import pandas as pd"
   ]
  },
  {
   "cell_type": "code",
   "execution_count": 2,
   "metadata": {},
   "outputs": [],
   "source": [
    "# load in the data from the cleaned files\n",
    "sentences = pd.read_csv(\"all_sentences.csv\")\n",
    "all_sentences = [x[0] for x in sentences.values if x is not None]"
   ]
  },
  {
   "cell_type": "markdown",
   "metadata": {},
   "source": [
    "### Build regex that extracts percentages from string\n",
    "\n",
    "Example formatting:\n",
    "\n",
    "* X%\n",
    "* X.X%\n",
    "* X.XX%\n",
    "* XX.XX% (etc)\n",
    "* X percent (X can be numeric or english)\n",
    "* X percentage points\n",
    "* point X percent (where X is one, two, three, etc.)\n",
    "\n"
   ]
  },
  {
   "cell_type": "code",
   "execution_count": 3,
   "metadata": {},
   "outputs": [],
   "source": [
    "exp1 = f\"\\d+(?:\\.\\d+)?(?:%| percent?)\"\n",
    "exp2 = f\"\\d+(?:\\.\\d+)?(?:%| percentage points?)\"\n",
    "# super ugly regex cause idk how to make them better\n",
    "exp3 = f\"(?:(?:one|two|three|four|five|six|seven|eight|nine)| \\\n",
    "(?:eleven|twelve|thirteen|fourteen|fifteen|sixteen|seventeen|eighteen|nineteen)| \\\n",
    "(?:twenty|thirty|forty|fifty|sixty|seventy|eighty|ninety)|(?: \\\n",
    "(?:twenty|thirty|forty|fifty|sixty|seventy|eighty|ninety)-(?:one|two|three|four|five|six|seven|eight|nine))) \\\n",
    "percent?\"\n",
    "# super ugly regex round 2 cause idk how to make them better\n",
    "exp4 = f\"(?:(?:one|two|three|four|five|six|seven|eight|nine)| \\\n",
    "(?:eleven|twelve|thirteen|fourteen|fifteen|sixteen|seventeen|eighteen|nineteen)| \\\n",
    "(?:twenty|thirty|forty|fifty|sixty|seventy|eighty|ninety)|(?: \\\n",
    "(?:twenty|thirty|forty|fifty|sixty|seventy|eighty|ninety)-(?:one|two|three|four|five|six|seven|eight|nine))) \\\n",
    "percentage points?\"\n",
    "exp5 = f\"point (?:(?:one|two|three|four|five|six|seven|eight|nine)| \\\n",
    "(?:eleven|twelve|thirteen|fourteen|fifteen|sixteen|seventeen|eighteen|nineteen)| \\\n",
    "(?:twenty|thirty|forty|fifty|sixty|seventy|eighty|ninety)|(?: \\\n",
    "(?:twenty|thirty|forty|fifty|sixty|seventy|eighty|ninety)-(?:one|two|three|four|five|six|seven|eight|nine))) \\\n",
    "percent?\"\n",
    "exp6 = f\"point (?:(?:one|two|three|four|five|six|seven|eight|nine)| \\\n",
    "(?:eleven|twelve|thirteen|fourteen|fifteen|sixteen|seventeen|eighteen|nineteen)| \\\n",
    "(?:twenty|thirty|forty|fifty|sixty|seventy|eighty|ninety)|(?: \\\n",
    "(?:twenty|thirty|forty|fifty|sixty|seventy|eighty|ninety)-(?:one|two|three|four|five|six|seven|eight|nine))) \\\n",
    "percentage points?\"\n",
    "exp7 = f\"point \\d+(?:\\.\\d+)?(?:%| percent?)\"\n",
    "exp8 = f\"point \\d+(?:\\.\\d+)?(?:%| percentage points?)\"\n",
    "\n",
    "\n",
    "matches = []\n",
    "for sentence in all_sentences:\n",
    "    percents1 = re.findall(exp1, sentence)\n",
    "    percents2 = re.findall(exp2, sentence)\n",
    "    percents3 = re.findall(exp3, sentence)\n",
    "    percents4 = re.findall(exp4, sentence)\n",
    "    percents5 = re.findall(exp5, sentence)\n",
    "    percents6 = re.findall(exp6, sentence)\n",
    "    percents7 = re.findall(exp7, sentence)\n",
    "    percents8 = re.findall(exp8, sentence)\n",
    "    \n",
    "    percents = list(set(percents1 + percents2 + percents3 + percents4 + percents5 + percents6 + percents7 + percents8))\n",
    "    \n",
    "    if percents:\n",
    "        for percentage in percents:\n",
    "            matches.append(percentage)\n",
    "            \n",
    "found_percentages = list(set(matches))"
   ]
  },
  {
   "cell_type": "markdown",
   "metadata": {},
   "source": [
    "### Output the found percentages to the file"
   ]
  },
  {
   "cell_type": "code",
   "execution_count": 4,
   "metadata": {},
   "outputs": [],
   "source": [
    "pd.Series(found_percentages).to_csv(\"found_percentages.csv\", index = False, header = False)"
   ]
  }
 ],
 "metadata": {
  "kernelspec": {
   "display_name": "Python 3",
   "language": "python",
   "name": "python3"
  },
  "language_info": {
   "codemirror_mode": {
    "name": "ipython",
    "version": 3
   },
   "file_extension": ".py",
   "mimetype": "text/x-python",
   "name": "python",
   "nbconvert_exporter": "python",
   "pygments_lexer": "ipython3",
   "version": "3.6.5"
  }
 },
 "nbformat": 4,
 "nbformat_minor": 2
}
